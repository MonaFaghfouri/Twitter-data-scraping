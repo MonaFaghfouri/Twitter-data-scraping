{
  "nbformat": 4,
  "nbformat_minor": 0,
  "metadata": {
    "colab": {
      "provenance": [],
      "authorship_tag": "ABX9TyM6r6QFKtJF6CB6QFm3VTFc",
      "include_colab_link": true
    },
    "kernelspec": {
      "name": "python3",
      "display_name": "Python 3"
    },
    "language_info": {
      "name": "python"
    }
  },
  "cells": [
    {
      "cell_type": "markdown",
      "metadata": {
        "id": "view-in-github",
        "colab_type": "text"
      },
      "source": [
        "<a href=\"https://colab.research.google.com/github/MonaFaghfouri/Twitter-data-scraping/blob/main/first.ipynb\" target=\"_parent\"><img src=\"https://colab.research.google.com/assets/colab-badge.svg\" alt=\"Open In Colab\"/></a>"
      ]
    },
    {
      "cell_type": "code",
      "execution_count": null,
      "metadata": {
        "id": "MjFBvI-pArFO"
      },
      "outputs": [],
      "source": [
        "# Before anything else, go to Twitter.com and create a new Twitter account. You need to memorize your username, password, and email. Then, create a .txt file containing this information, and convert the .txt file to a .json file.\n",
        "# Prepare .txt file like data.txt\n"
      ]
    },
    {
      "cell_type": "code",
      "source": [
        "# Convert data.txt to data.json\n",
        "import json\n",
        "\n",
        "# Read data from the .txt file\n",
        "with open(\"data.txt\", \"r\", encoding=\"utf-8\") as txt_file:\n",
        "    lines = txt_file.readlines()\n",
        "\n",
        "# Convert lines into a dictionary\n",
        "data_dict = {}\n",
        "for line in lines:\n",
        "    key_value = line.strip().split(\":\", 1)  # Split only on the first colon\n",
        "    if len(key_value) == 2:\n",
        "        key, value = key_value\n",
        "        data_dict[key.strip()] = value.strip()\n",
        "\n",
        "# Write data to a .json file\n",
        "with open(\"data.json\", \"w\", encoding=\"utf-8\") as json_file:\n",
        "    json.dump(data_dict, json_file, indent=4)\n",
        "\n",
        "print(\"Conversion completed: 'data.json' created.\")\n"
      ],
      "metadata": {
        "id": "fT2VC-RZBeLX"
      },
      "execution_count": null,
      "outputs": []
    }
  ]
}