{
  "nbformat": 4,
  "nbformat_minor": 0,
  "metadata": {
    "colab": {
      "provenance": [],
      "authorship_tag": "ABX9TyMqA5iLMJjjo/InOxIDcc0b",
      "include_colab_link": true
    },
    "kernelspec": {
      "name": "python3",
      "display_name": "Python 3"
    },
    "language_info": {
      "name": "python"
    }
  },
  "cells": [
    {
      "cell_type": "markdown",
      "metadata": {
        "id": "view-in-github",
        "colab_type": "text"
      },
      "source": [
        "<a href=\"https://colab.research.google.com/github/MonaFaghfouri/Twitter-data-scraping/blob/main/third.ipynb\" target=\"_parent\"><img src=\"https://colab.research.google.com/assets/colab-badge.svg\" alt=\"Open In Colab\"/></a>"
      ]
    },
    {
      "cell_type": "code",
      "execution_count": null,
      "metadata": {
        "id": "6yj66fwqG9Q8"
      },
      "outputs": [],
      "source": [
        "# You have too many Excel files; you should combine them into a single data file."
      ]
    },
    {
      "cell_type": "code",
      "source": [
        "# Upload your Excel files to colab"
      ],
      "metadata": {
        "id": "UuJw186FHQyE"
      },
      "execution_count": null,
      "outputs": []
    },
    {
      "cell_type": "code",
      "source": [
        "import os\n",
        "import pandas as pd\n",
        "\n",
        "# Get the list of Excel files from the session storage\n",
        "from google.colab import files\n",
        "uploaded = files.upload()\n",
        "\n",
        "# Define the output file name\n",
        "output_file = \"new.xlsx\"\n",
        "\n",
        "# Create a list to store data\n",
        "all_data = []\n",
        "\n",
        "# Process each uploaded Excel file\n",
        "for file_name in uploaded.keys():\n",
        "    df = pd.read_excel(file_name)\n",
        "    # Remove rows that contain the specified values\n",
        "    df = df[~df.apply(lambda row: row.astype(str).str.contains(\"Username|Text|Created At|Retweets|Likes|Location\").any(), axis=1)]\n",
        "    all_data.append(df)\n",
        "\n",
        "# Combine all data\n",
        "data_combined = pd.concat(all_data, ignore_index=True)\n",
        "\n",
        "# Save the data to a new Excel file\n",
        "data_combined.to_excel(output_file, index=False)\n",
        "\n",
        "print(f\"The file {output_file} has been successfully created!\")\n"
      ],
      "metadata": {
        "id": "GZyzRDnLHkA5"
      },
      "execution_count": null,
      "outputs": []
    }
  ]
}